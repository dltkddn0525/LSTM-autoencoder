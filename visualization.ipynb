{
  "nbformat": 4,
  "nbformat_minor": 0,
  "metadata": {
    "colab": {
      "name": "visualization.ipynb",
      "provenance": [],
      "collapsed_sections": []
    },
    "kernelspec": {
      "name": "python3",
      "display_name": "Python 3"
    },
    "language_info": {
      "name": "python"
    }
  },
  "cells": [
    {
      "cell_type": "code",
      "metadata": {
        "colab": {
          "base_uri": "https://localhost:8080/"
        },
        "id": "Yd_ozj0jGzH4",
        "outputId": "7740226e-422a-4fd2-c870-86a572007bfb"
      },
      "source": [
        "from google.colab import drive\n",
        "drive.mount('/content/drive')"
      ],
      "execution_count": 1,
      "outputs": [
        {
          "output_type": "stream",
          "text": [
            "Mounted at /content/drive\n"
          ],
          "name": "stdout"
        }
      ]
    },
    {
      "cell_type": "code",
      "metadata": {
        "id": "3oY4FMB0G6u_"
      },
      "source": [
        "import pandas as pd\n",
        "import torch\n",
        "import numpy as np\n",
        "import matplotlib.pyplot as plt\n",
        "from datetime import datetime\n",
        "import seaborn as sns\n",
        "from matplotlib import rc\n",
        "from pylab import rcParams\n",
        "from sklearn.metrics import confusion_matrix,roc_auc_score\n",
        "%matplotlib inline"
      ],
      "execution_count": 2,
      "outputs": []
    },
    {
      "cell_type": "markdown",
      "metadata": {
        "id": "DGSlDU0o44EY"
      },
      "source": [
        "AMPds2 dataset의 경우"
      ]
    },
    {
      "cell_type": "code",
      "metadata": {
        "id": "yfj1tfQQG62M"
      },
      "source": [
        "\n",
        "#your label_list, score_list, recon_err의 Paht\n",
        "label_list=np.load('/content/drive/MyDrive/dataverse_files/label_list (1).npy')\n",
        "score_list=np.load('/content/drive/MyDrive/dataverse_files/score_list (1).npy')\n",
        "recon_err=np.load('/content/drive/MyDrive/dataverse_files/recon_err (1).npy')"
      ],
      "execution_count": 3,
      "outputs": []
    },
    {
      "cell_type": "code",
      "metadata": {
        "id": "xXTdKUGtG7Ak"
      },
      "source": [
        "#your csv data path\n",
        "Power_path= '/content/drive/MyDrive/dataverse_files/Electricity_WHE_labeled.csv'"
      ],
      "execution_count": 4,
      "outputs": []
    },
    {
      "cell_type": "code",
      "metadata": {
        "id": "gxnxrqnTG7DG"
      },
      "source": [
        "#data load\n",
        "Power = pd.read_csv(Power_path)\n",
        "\n",
        "# Split 8:2, MLE on normal_val for test dataset\n",
        "Power_train = Power.iloc[:int(len(Power)*0.8)]\n",
        "Power_test = Power.iloc[int(len(Power)*0.8):]"
      ],
      "execution_count": 5,
      "outputs": []
    },
    {
      "cell_type": "code",
      "metadata": {
        "id": "cA0XOjVC9B_p"
      },
      "source": [
        "#threshold\n",
        "threshold = np.mean(score_list)+3*np.std(score_list)"
      ],
      "execution_count": 6,
      "outputs": []
    },
    {
      "cell_type": "code",
      "metadata": {
        "id": "Mx7nOk16DEea",
        "colab": {
          "base_uri": "https://localhost:8080/",
          "height": 524
        },
        "outputId": "57d609c4-0536-4b15-e160-f8df6c4f02ad"
      },
      "source": [
        "  #Predict abnormal\n",
        "y_pred = [int(score>threshold) for score in score_list]\n",
        "Power_test['y_pred']=y_pred\n",
        "Power_test"
      ],
      "execution_count": 7,
      "outputs": [
        {
          "output_type": "stream",
          "text": [
            "/usr/local/lib/python3.7/dist-packages/ipykernel_launcher.py:3: SettingWithCopyWarning: \n",
            "A value is trying to be set on a copy of a slice from a DataFrame.\n",
            "Try using .loc[row_indexer,col_indexer] = value instead\n",
            "\n",
            "See the caveats in the documentation: https://pandas.pydata.org/pandas-docs/stable/user_guide/indexing.html#returning-a-view-versus-a-copy\n",
            "  This is separate from the ipykernel package so we can avoid doing imports until\n"
          ],
          "name": "stderr"
        },
        {
          "output_type": "execute_result",
          "data": {
            "text/html": [
              "<div>\n",
              "<style scoped>\n",
              "    .dataframe tbody tr th:only-of-type {\n",
              "        vertical-align: middle;\n",
              "    }\n",
              "\n",
              "    .dataframe tbody tr th {\n",
              "        vertical-align: top;\n",
              "    }\n",
              "\n",
              "    .dataframe thead th {\n",
              "        text-align: right;\n",
              "    }\n",
              "</style>\n",
              "<table border=\"1\" class=\"dataframe\">\n",
              "  <thead>\n",
              "    <tr style=\"text-align: right;\">\n",
              "      <th></th>\n",
              "      <th>Unnamed: 0</th>\n",
              "      <th>unix_ts</th>\n",
              "      <th>V</th>\n",
              "      <th>I</th>\n",
              "      <th>f</th>\n",
              "      <th>DPF</th>\n",
              "      <th>APF</th>\n",
              "      <th>P</th>\n",
              "      <th>Pt</th>\n",
              "      <th>Q</th>\n",
              "      <th>Qt</th>\n",
              "      <th>S</th>\n",
              "      <th>St</th>\n",
              "      <th>label</th>\n",
              "      <th>y_pred</th>\n",
              "    </tr>\n",
              "  </thead>\n",
              "  <tbody>\n",
              "    <tr>\n",
              "      <th>840960</th>\n",
              "      <td>840960</td>\n",
              "      <td>1383721200</td>\n",
              "      <td>244.3</td>\n",
              "      <td>11.5</td>\n",
              "      <td>60.00</td>\n",
              "      <td>1.0</td>\n",
              "      <td>0.95</td>\n",
              "      <td>1343</td>\n",
              "      <td>16319794</td>\n",
              "      <td>182</td>\n",
              "      <td>2323320</td>\n",
              "      <td>1424</td>\n",
              "      <td>17677561</td>\n",
              "      <td>0</td>\n",
              "      <td>0</td>\n",
              "    </tr>\n",
              "    <tr>\n",
              "      <th>840961</th>\n",
              "      <td>840961</td>\n",
              "      <td>1383721260</td>\n",
              "      <td>244.9</td>\n",
              "      <td>11.7</td>\n",
              "      <td>60.00</td>\n",
              "      <td>1.0</td>\n",
              "      <td>0.96</td>\n",
              "      <td>1375</td>\n",
              "      <td>16319816</td>\n",
              "      <td>184</td>\n",
              "      <td>2323323</td>\n",
              "      <td>1497</td>\n",
              "      <td>17677586</td>\n",
              "      <td>0</td>\n",
              "      <td>0</td>\n",
              "    </tr>\n",
              "    <tr>\n",
              "      <th>840962</th>\n",
              "      <td>840962</td>\n",
              "      <td>1383721320</td>\n",
              "      <td>244.6</td>\n",
              "      <td>12.0</td>\n",
              "      <td>60.06</td>\n",
              "      <td>1.0</td>\n",
              "      <td>0.96</td>\n",
              "      <td>1407</td>\n",
              "      <td>16319841</td>\n",
              "      <td>182</td>\n",
              "      <td>2323326</td>\n",
              "      <td>1494</td>\n",
              "      <td>17677611</td>\n",
              "      <td>0</td>\n",
              "      <td>0</td>\n",
              "    </tr>\n",
              "    <tr>\n",
              "      <th>840963</th>\n",
              "      <td>840963</td>\n",
              "      <td>1383721380</td>\n",
              "      <td>244.7</td>\n",
              "      <td>10.1</td>\n",
              "      <td>60.00</td>\n",
              "      <td>1.0</td>\n",
              "      <td>0.91</td>\n",
              "      <td>1128</td>\n",
              "      <td>16319862</td>\n",
              "      <td>159</td>\n",
              "      <td>2323329</td>\n",
              "      <td>1295</td>\n",
              "      <td>17677633</td>\n",
              "      <td>0</td>\n",
              "      <td>0</td>\n",
              "    </tr>\n",
              "    <tr>\n",
              "      <th>840964</th>\n",
              "      <td>840964</td>\n",
              "      <td>1383721440</td>\n",
              "      <td>245.0</td>\n",
              "      <td>9.6</td>\n",
              "      <td>60.00</td>\n",
              "      <td>1.0</td>\n",
              "      <td>0.91</td>\n",
              "      <td>1073</td>\n",
              "      <td>16319881</td>\n",
              "      <td>150</td>\n",
              "      <td>2323332</td>\n",
              "      <td>1238</td>\n",
              "      <td>17677654</td>\n",
              "      <td>0</td>\n",
              "      <td>0</td>\n",
              "    </tr>\n",
              "    <tr>\n",
              "      <th>...</th>\n",
              "      <td>...</td>\n",
              "      <td>...</td>\n",
              "      <td>...</td>\n",
              "      <td>...</td>\n",
              "      <td>...</td>\n",
              "      <td>...</td>\n",
              "      <td>...</td>\n",
              "      <td>...</td>\n",
              "      <td>...</td>\n",
              "      <td>...</td>\n",
              "      <td>...</td>\n",
              "      <td>...</td>\n",
              "      <td>...</td>\n",
              "      <td>...</td>\n",
              "      <td>...</td>\n",
              "    </tr>\n",
              "    <tr>\n",
              "      <th>1051195</th>\n",
              "      <td>1051195</td>\n",
              "      <td>1396335300</td>\n",
              "      <td>243.5</td>\n",
              "      <td>5.5</td>\n",
              "      <td>60.00</td>\n",
              "      <td>1.0</td>\n",
              "      <td>0.85</td>\n",
              "      <td>534</td>\n",
              "      <td>20488006</td>\n",
              "      <td>168</td>\n",
              "      <td>2872949</td>\n",
              "      <td>737</td>\n",
              "      <td>22164619</td>\n",
              "      <td>0</td>\n",
              "      <td>0</td>\n",
              "    </tr>\n",
              "    <tr>\n",
              "      <th>1051196</th>\n",
              "      <td>1051196</td>\n",
              "      <td>1396335360</td>\n",
              "      <td>242.6</td>\n",
              "      <td>5.4</td>\n",
              "      <td>60.00</td>\n",
              "      <td>1.0</td>\n",
              "      <td>0.84</td>\n",
              "      <td>520</td>\n",
              "      <td>20488014</td>\n",
              "      <td>167</td>\n",
              "      <td>2872952</td>\n",
              "      <td>727</td>\n",
              "      <td>22164629</td>\n",
              "      <td>0</td>\n",
              "      <td>0</td>\n",
              "    </tr>\n",
              "    <tr>\n",
              "      <th>1051197</th>\n",
              "      <td>1051197</td>\n",
              "      <td>1396335420</td>\n",
              "      <td>242.8</td>\n",
              "      <td>5.5</td>\n",
              "      <td>60.00</td>\n",
              "      <td>1.0</td>\n",
              "      <td>0.83</td>\n",
              "      <td>525</td>\n",
              "      <td>20488023</td>\n",
              "      <td>168</td>\n",
              "      <td>2872954</td>\n",
              "      <td>737</td>\n",
              "      <td>22164641</td>\n",
              "      <td>0</td>\n",
              "      <td>0</td>\n",
              "    </tr>\n",
              "    <tr>\n",
              "      <th>1051198</th>\n",
              "      <td>1051198</td>\n",
              "      <td>1396335480</td>\n",
              "      <td>242.7</td>\n",
              "      <td>5.5</td>\n",
              "      <td>60.00</td>\n",
              "      <td>1.0</td>\n",
              "      <td>0.83</td>\n",
              "      <td>530</td>\n",
              "      <td>20488033</td>\n",
              "      <td>163</td>\n",
              "      <td>2872956</td>\n",
              "      <td>742</td>\n",
              "      <td>22164648</td>\n",
              "      <td>0</td>\n",
              "      <td>0</td>\n",
              "    </tr>\n",
              "    <tr>\n",
              "      <th>1051199</th>\n",
              "      <td>1051199</td>\n",
              "      <td>1396335540</td>\n",
              "      <td>242.6</td>\n",
              "      <td>5.5</td>\n",
              "      <td>60.00</td>\n",
              "      <td>1.0</td>\n",
              "      <td>0.84</td>\n",
              "      <td>530</td>\n",
              "      <td>20488041</td>\n",
              "      <td>160</td>\n",
              "      <td>2872959</td>\n",
              "      <td>736</td>\n",
              "      <td>22164660</td>\n",
              "      <td>0</td>\n",
              "      <td>0</td>\n",
              "    </tr>\n",
              "  </tbody>\n",
              "</table>\n",
              "<p>210240 rows × 15 columns</p>\n",
              "</div>"
            ],
            "text/plain": [
              "         Unnamed: 0     unix_ts      V     I  ...     S        St  label  y_pred\n",
              "840960       840960  1383721200  244.3  11.5  ...  1424  17677561      0       0\n",
              "840961       840961  1383721260  244.9  11.7  ...  1497  17677586      0       0\n",
              "840962       840962  1383721320  244.6  12.0  ...  1494  17677611      0       0\n",
              "840963       840963  1383721380  244.7  10.1  ...  1295  17677633      0       0\n",
              "840964       840964  1383721440  245.0   9.6  ...  1238  17677654      0       0\n",
              "...             ...         ...    ...   ...  ...   ...       ...    ...     ...\n",
              "1051195     1051195  1396335300  243.5   5.5  ...   737  22164619      0       0\n",
              "1051196     1051196  1396335360  242.6   5.4  ...   727  22164629      0       0\n",
              "1051197     1051197  1396335420  242.8   5.5  ...   737  22164641      0       0\n",
              "1051198     1051198  1396335480  242.7   5.5  ...   742  22164648      0       0\n",
              "1051199     1051199  1396335540  242.6   5.5  ...   736  22164660      0       0\n",
              "\n",
              "[210240 rows x 15 columns]"
            ]
          },
          "metadata": {
            "tags": []
          },
          "execution_count": 7
        }
      ]
    },
    {
      "cell_type": "code",
      "metadata": {
        "id": "LunD8DdNzLpL"
      },
      "source": [
        "sns.set(rc={'figure.figsize':(11, 4)})  "
      ],
      "execution_count": 8,
      "outputs": []
    },
    {
      "cell_type": "code",
      "metadata": {
        "id": "IJwZWBZ5G67U",
        "colab": {
          "base_uri": "https://localhost:8080/",
          "height": 286
        },
        "outputId": "d7100383-9a25-452f-cbdf-43c684542939"
      },
      "source": [
        "#Visual abnormal score\n",
        "plt.plot(score_list, label='Anomaly Score')\n",
        "plt.axhline(y=threshold, color='r', linewidth=3)\n",
        "plt.axvline(x=0, color='black', linestyle='--', linewidth=1)\n",
        "plt.axvline(x=10080, color='black', linestyle='--', linewidth=1)\n",
        "plt.legend()\n",
        "len(score_list)"
      ],
      "execution_count": 9,
      "outputs": [
        {
          "output_type": "execute_result",
          "data": {
            "text/plain": [
              "210240"
            ]
          },
          "metadata": {
            "tags": []
          },
          "execution_count": 9
        },
        {
          "output_type": "display_data",
          "data": {
            "image/png": "[encoded data removed]",
            "text/plain": [
              "<Figure size 792x288 with 1 Axes>"
            ]
          },
          "metadata": {
            "tags": []
          }
        }
      ]
    },
    {
      "cell_type": "code",
      "metadata": {
        "id": "5pevAspcG6-W",
        "colab": {
          "base_uri": "https://localhost:8080/",
          "height": 286
        },
        "outputId": "4f6f21d7-f652-46a8-bac0-b4695e1c8e53"
      },
      "source": [
        "#Reconstruction Error\n",
        "plt.plot(recon_err,label='Reconstruction Error')\n",
        "plt.axvline(x=0, color='black', linestyle='--', linewidth=1)\n",
        "plt.axvline(x=10080, color='black', linestyle='--', linewidth=1)\n",
        "plt.legend()"
      ],
      "execution_count": 10,
      "outputs": [
        {
          "output_type": "execute_result",
          "data": {
            "text/plain": [
              "<matplotlib.legend.Legend at 0x7f0f17d28d50>"
            ]
          },
          "metadata": {
            "tags": []
          },
          "execution_count": 10
        },
        {
          "output_type": "display_data",
          "data": {
            "image/png": "[encoded data removed]",
            "text/plain": [
              "<Figure size 792x288 with 1 Axes>"
            ]
          },
          "metadata": {
            "tags": []
          }
        }
      ]
    },
    {
      "cell_type": "code",
      "metadata": {
        "id": "b-3whbxzG7Fc"
      },
      "source": [
        "#1Week=10080minute \n",
        "Power_test7=Power_test[:10080]"
      ],
      "execution_count": 34,
      "outputs": []
    },
    {
      "cell_type": "code",
      "metadata": {
        "id": "tEbGLN7oG7IB",
        "colab": {
          "base_uri": "https://localhost:8080/",
          "height": 286
        },
        "outputId": "17ae35ff-110a-49c5-c4cb-d9340e700faa"
      },
      "source": [
        "ax_p=Power_test7['P'].plot(linewidth=0.5,label='Normal');\n",
        "Error_label=Power_test7['P'][Power_test7['label']==1]\n",
        "Error_predict=Power_test7['P'][Power_test7['y_pred']==1]\n",
        "\n",
        "Error_label.plot(marker='o',color='red',linestyle='None', alpha=0.8,label='Abnormal')\n",
        "Error_predict.plot(marker='o',color='black',linestyle='None', alpha=0.3,label='Predict')\n",
        "ax_p.legend()"
      ],
      "execution_count": 13,
      "outputs": [
        {
          "output_type": "execute_result",
          "data": {
            "text/plain": [
              "<matplotlib.legend.Legend at 0x7f0f17cb73d0>"
            ]
          },
          "metadata": {
            "tags": []
          },
          "execution_count": 13
        },
        {
          "output_type": "display_data",
          "data": {
            "image/png": "[encoded data removed]",
            "text/plain": [
              "<Figure size 792x288 with 1 Axes>"
            ]
          },
          "metadata": {
            "tags": []
          }
        }
      ]
    },
    {
      "cell_type": "markdown",
      "metadata": {
        "id": "juLhA1104yV7"
      },
      "source": [
        "SWaT dataSet의 경우"
      ]
    },
    {
      "cell_type": "code",
      "metadata": {
        "id": "gVEWrgkq33Pb"
      },
      "source": [
        "#your label_list, score_list, recon_err의 Paht\n",
        "label_list=np.load('/content/drive/MyDrive/dataverse_files/label_list.npy')\n",
        "score_list=np.load('/content/drive/MyDrive/dataverse_files/score_list.npy')\n",
        "recon_err=np.load('/content/drive/MyDrive/dataverse_files/recon_err.npy')"
      ],
      "execution_count": 23,
      "outputs": []
    },
    {
      "cell_type": "code",
      "metadata": {
        "id": "LAmZHufm33W5"
      },
      "source": [
        "SWAT_ab_path= '/content/drive/MyDrive/dataverse_files/SWaT_Dataset_Attack_v0.csv'\n",
        "SWAT_n_path='/content/drive/MyDrive/dataverse_files/SWaT_Dataset_Normal_v1.csv'"
      ],
      "execution_count": 24,
      "outputs": []
    },
    {
      "cell_type": "code",
      "metadata": {
        "id": "UVwfVukk33ZY"
      },
      "source": [
        "normal = pd.read_csv('/content/drive/MyDrive/dataverse_files/SWaT_Dataset_Normal_v1 (1).csv')\n",
        "abnormal  = pd.read_csv('/content/drive/MyDrive/dataverse_files/SWaT_Dataset_Attack_v0 (1).csv')\n",
        "\n",
        "    # Drop first 6 hours\n",
        "drop_idx = np.arange(19800)\n",
        "normal = normal.drop(drop_idx)\n",
        "\n",
        "    # Set index column\n",
        "normal['date'] = pd.to_datetime(normal['Unnamed: 0'])\n",
        "del normal['Unnamed: 0']\n",
        "normal = normal.set_index('date')\n",
        "abnormal['date'] = pd.to_datetime(abnormal[' Timestamp'])\n",
        "del abnormal[' Timestamp']\n",
        "abnormal = abnormal.set_index('date')\n",
        "\n",
        "    # Change Normal -> 0, Attack -> 1\n",
        "normal[\"Unnamed: 52\"]=normal[\"Unnamed: 52\"].replace([\"Normal\",\"Attack\"],[0,1])\n",
        "abnormal[\"Normal/Attack\"]=abnormal[\"Normal/Attack\"].replace([\"Normal\",\"Attack\",\"A ttack\"],[0,1,1])\n",
        "\n",
        "    # Split 7:3, MLE on normal_val\n",
        "normal_trn = normal.iloc[:int(len(normal)*0.7)]\n",
        "normal_val = normal.iloc[int(len(normal)*0.7):]\n",
        "\n",
        "    # Compute normalize statistics\n",
        "mean = normal_trn.mean()\n",
        "std = normal_trn.std()\n",
        "\n",
        "    # Drop std=0 column (51->37, drop 14 column)\n",
        "col_idx = np.where(std==0)\n",
        "normal_trn = normal_trn.drop(normal_trn.columns[col_idx[0][:-1]],axis=1)\n",
        "normal_val = normal_val.drop(normal_val.columns[col_idx[0][:-1]],axis=1)\n",
        "abnormal = abnormal.drop(abnormal.columns[col_idx[0][:-1]],axis=1)"
      ],
      "execution_count": null,
      "outputs": []
    },
    {
      "cell_type": "code",
      "metadata": {
        "id": "PRq5nRTI33by"
      },
      "source": [
        "#만일의 경우 데이터 맞춤\n",
        "if len(abnormal)!=len(label_list):\n",
        "  abnormal=abnormal[:len(label_list)]"
      ],
      "execution_count": 26,
      "outputs": []
    },
    {
      "cell_type": "code",
      "metadata": {
        "id": "ioizLjPU33jx"
      },
      "source": [
        "#threshold\n",
        "threshold = np.mean(score_list)+3*np.std(score_list)"
      ],
      "execution_count": 27,
      "outputs": []
    },
    {
      "cell_type": "code",
      "metadata": {
        "colab": {
          "base_uri": "https://localhost:8080/",
          "height": 807
        },
        "id": "koEznerg5HMz",
        "outputId": "89dea2ab-813d-4e42-e53d-a11ce92b617b"
      },
      "source": [
        "  #Predict abnormal\n",
        "y_pred = [int(score>threshold) for score in score_list]\n",
        "abnormal['y_pred']=y_pred\n",
        "abnormal"
      ],
      "execution_count": 29,
      "outputs": [
        {
          "output_type": "execute_result",
          "data": {
            "text/html": [
              "<div>\n",
              "<style scoped>\n",
              "    .dataframe tbody tr th:only-of-type {\n",
              "        vertical-align: middle;\n",
              "    }\n",
              "\n",
              "    .dataframe tbody tr th {\n",
              "        vertical-align: top;\n",
              "    }\n",
              "\n",
              "    .dataframe thead th {\n",
              "        text-align: right;\n",
              "    }\n",
              "</style>\n",
              "<table border=\"1\" class=\"dataframe\">\n",
              "  <thead>\n",
              "    <tr style=\"text-align: right;\">\n",
              "      <th></th>\n",
              "      <th>FIT101</th>\n",
              "      <th>LIT101</th>\n",
              "      <th>MV101</th>\n",
              "      <th>P101</th>\n",
              "      <th>AIT201</th>\n",
              "      <th>AIT202</th>\n",
              "      <th>AIT203</th>\n",
              "      <th>FIT201</th>\n",
              "      <th>MV201</th>\n",
              "      <th>P203</th>\n",
              "      <th>P205</th>\n",
              "      <th>DPIT301</th>\n",
              "      <th>FIT301</th>\n",
              "      <th>LIT301</th>\n",
              "      <th>MV301</th>\n",
              "      <th>MV302</th>\n",
              "      <th>MV303</th>\n",
              "      <th>MV304</th>\n",
              "      <th>P301</th>\n",
              "      <th>P302</th>\n",
              "      <th>AIT401</th>\n",
              "      <th>AIT402</th>\n",
              "      <th>FIT401</th>\n",
              "      <th>LIT401</th>\n",
              "      <th>AIT501</th>\n",
              "      <th>AIT502</th>\n",
              "      <th>AIT503</th>\n",
              "      <th>AIT504</th>\n",
              "      <th>FIT501</th>\n",
              "      <th>FIT502</th>\n",
              "      <th>FIT503</th>\n",
              "      <th>FIT504</th>\n",
              "      <th>PIT501</th>\n",
              "      <th>PIT502</th>\n",
              "      <th>PIT503</th>\n",
              "      <th>FIT601</th>\n",
              "      <th>P602</th>\n",
              "      <th>Normal/Attack</th>\n",
              "      <th>y_pred</th>\n",
              "    </tr>\n",
              "    <tr>\n",
              "      <th>date</th>\n",
              "      <th></th>\n",
              "      <th></th>\n",
              "      <th></th>\n",
              "      <th></th>\n",
              "      <th></th>\n",
              "      <th></th>\n",
              "      <th></th>\n",
              "      <th></th>\n",
              "      <th></th>\n",
              "      <th></th>\n",
              "      <th></th>\n",
              "      <th></th>\n",
              "      <th></th>\n",
              "      <th></th>\n",
              "      <th></th>\n",
              "      <th></th>\n",
              "      <th></th>\n",
              "      <th></th>\n",
              "      <th></th>\n",
              "      <th></th>\n",
              "      <th></th>\n",
              "      <th></th>\n",
              "      <th></th>\n",
              "      <th></th>\n",
              "      <th></th>\n",
              "      <th></th>\n",
              "      <th></th>\n",
              "      <th></th>\n",
              "      <th></th>\n",
              "      <th></th>\n",
              "      <th></th>\n",
              "      <th></th>\n",
              "      <th></th>\n",
              "      <th></th>\n",
              "      <th></th>\n",
              "      <th></th>\n",
              "      <th></th>\n",
              "      <th></th>\n",
              "      <th></th>\n",
              "    </tr>\n",
              "  </thead>\n",
              "  <tbody>\n",
              "    <tr>\n",
              "      <th>2015-12-28 10:00:00</th>\n",
              "      <td>2.427057</td>\n",
              "      <td>522.8467</td>\n",
              "      <td>2</td>\n",
              "      <td>2</td>\n",
              "      <td>262.0161</td>\n",
              "      <td>8.396437</td>\n",
              "      <td>328.6337</td>\n",
              "      <td>2.445391</td>\n",
              "      <td>2</td>\n",
              "      <td>2</td>\n",
              "      <td>2</td>\n",
              "      <td>19.74838</td>\n",
              "      <td>2.206835</td>\n",
              "      <td>956.1651</td>\n",
              "      <td>1</td>\n",
              "      <td>2</td>\n",
              "      <td>1</td>\n",
              "      <td>1</td>\n",
              "      <td>1</td>\n",
              "      <td>2</td>\n",
              "      <td>148.8080</td>\n",
              "      <td>156.0882</td>\n",
              "      <td>1.713517</td>\n",
              "      <td>942.0662</td>\n",
              "      <td>7.878621</td>\n",
              "      <td>145.1166</td>\n",
              "      <td>264.5475</td>\n",
              "      <td>12.03538</td>\n",
              "      <td>1.723789</td>\n",
              "      <td>1.279621</td>\n",
              "      <td>0.735269</td>\n",
              "      <td>0.307786</td>\n",
              "      <td>250.8652</td>\n",
              "      <td>1.649953</td>\n",
              "      <td>189.5988</td>\n",
              "      <td>0.000128</td>\n",
              "      <td>1</td>\n",
              "      <td>0</td>\n",
              "      <td>0</td>\n",
              "    </tr>\n",
              "    <tr>\n",
              "      <th>2015-12-28 10:00:01</th>\n",
              "      <td>2.446274</td>\n",
              "      <td>522.8860</td>\n",
              "      <td>2</td>\n",
              "      <td>2</td>\n",
              "      <td>262.0161</td>\n",
              "      <td>8.396437</td>\n",
              "      <td>328.6337</td>\n",
              "      <td>2.445391</td>\n",
              "      <td>2</td>\n",
              "      <td>2</td>\n",
              "      <td>2</td>\n",
              "      <td>19.74838</td>\n",
              "      <td>2.208244</td>\n",
              "      <td>956.1651</td>\n",
              "      <td>1</td>\n",
              "      <td>2</td>\n",
              "      <td>1</td>\n",
              "      <td>1</td>\n",
              "      <td>1</td>\n",
              "      <td>2</td>\n",
              "      <td>148.8080</td>\n",
              "      <td>156.0882</td>\n",
              "      <td>1.715952</td>\n",
              "      <td>942.0277</td>\n",
              "      <td>7.878621</td>\n",
              "      <td>145.1166</td>\n",
              "      <td>264.5475</td>\n",
              "      <td>12.03538</td>\n",
              "      <td>1.723789</td>\n",
              "      <td>1.297554</td>\n",
              "      <td>0.735269</td>\n",
              "      <td>0.307786</td>\n",
              "      <td>250.8652</td>\n",
              "      <td>1.649953</td>\n",
              "      <td>189.6789</td>\n",
              "      <td>0.000128</td>\n",
              "      <td>1</td>\n",
              "      <td>0</td>\n",
              "      <td>0</td>\n",
              "    </tr>\n",
              "    <tr>\n",
              "      <th>2015-12-28 10:00:02</th>\n",
              "      <td>2.489191</td>\n",
              "      <td>522.8467</td>\n",
              "      <td>2</td>\n",
              "      <td>2</td>\n",
              "      <td>262.0161</td>\n",
              "      <td>8.394514</td>\n",
              "      <td>328.6337</td>\n",
              "      <td>2.442316</td>\n",
              "      <td>2</td>\n",
              "      <td>2</td>\n",
              "      <td>2</td>\n",
              "      <td>19.69076</td>\n",
              "      <td>2.208628</td>\n",
              "      <td>956.4855</td>\n",
              "      <td>1</td>\n",
              "      <td>2</td>\n",
              "      <td>1</td>\n",
              "      <td>1</td>\n",
              "      <td>1</td>\n",
              "      <td>2</td>\n",
              "      <td>148.8080</td>\n",
              "      <td>156.0882</td>\n",
              "      <td>1.715952</td>\n",
              "      <td>941.8739</td>\n",
              "      <td>7.878621</td>\n",
              "      <td>145.1166</td>\n",
              "      <td>264.5475</td>\n",
              "      <td>12.03538</td>\n",
              "      <td>1.723404</td>\n",
              "      <td>1.293967</td>\n",
              "      <td>0.735269</td>\n",
              "      <td>0.308619</td>\n",
              "      <td>250.8812</td>\n",
              "      <td>1.649953</td>\n",
              "      <td>189.6789</td>\n",
              "      <td>0.000128</td>\n",
              "      <td>1</td>\n",
              "      <td>0</td>\n",
              "      <td>0</td>\n",
              "    </tr>\n",
              "    <tr>\n",
              "      <th>2015-12-28 10:00:03</th>\n",
              "      <td>2.534350</td>\n",
              "      <td>522.9645</td>\n",
              "      <td>2</td>\n",
              "      <td>2</td>\n",
              "      <td>262.0161</td>\n",
              "      <td>8.394514</td>\n",
              "      <td>328.6337</td>\n",
              "      <td>2.442316</td>\n",
              "      <td>2</td>\n",
              "      <td>2</td>\n",
              "      <td>2</td>\n",
              "      <td>19.69076</td>\n",
              "      <td>2.208628</td>\n",
              "      <td>956.8060</td>\n",
              "      <td>1</td>\n",
              "      <td>2</td>\n",
              "      <td>1</td>\n",
              "      <td>1</td>\n",
              "      <td>1</td>\n",
              "      <td>2</td>\n",
              "      <td>148.8080</td>\n",
              "      <td>156.0882</td>\n",
              "      <td>1.714670</td>\n",
              "      <td>941.7970</td>\n",
              "      <td>7.878621</td>\n",
              "      <td>145.0141</td>\n",
              "      <td>264.5475</td>\n",
              "      <td>12.03538</td>\n",
              "      <td>1.723404</td>\n",
              "      <td>1.281158</td>\n",
              "      <td>0.735269</td>\n",
              "      <td>0.308619</td>\n",
              "      <td>250.8812</td>\n",
              "      <td>1.649953</td>\n",
              "      <td>189.6148</td>\n",
              "      <td>0.000128</td>\n",
              "      <td>1</td>\n",
              "      <td>0</td>\n",
              "      <td>0</td>\n",
              "    </tr>\n",
              "    <tr>\n",
              "      <th>2015-12-28 10:00:04</th>\n",
              "      <td>2.569260</td>\n",
              "      <td>523.4748</td>\n",
              "      <td>2</td>\n",
              "      <td>2</td>\n",
              "      <td>262.0161</td>\n",
              "      <td>8.394514</td>\n",
              "      <td>328.6337</td>\n",
              "      <td>2.443085</td>\n",
              "      <td>2</td>\n",
              "      <td>2</td>\n",
              "      <td>2</td>\n",
              "      <td>19.69076</td>\n",
              "      <td>2.208628</td>\n",
              "      <td>957.0864</td>\n",
              "      <td>1</td>\n",
              "      <td>2</td>\n",
              "      <td>1</td>\n",
              "      <td>1</td>\n",
              "      <td>1</td>\n",
              "      <td>2</td>\n",
              "      <td>148.8080</td>\n",
              "      <td>156.0882</td>\n",
              "      <td>1.714670</td>\n",
              "      <td>942.2200</td>\n",
              "      <td>7.878621</td>\n",
              "      <td>144.8859</td>\n",
              "      <td>264.5475</td>\n",
              "      <td>12.03538</td>\n",
              "      <td>1.723404</td>\n",
              "      <td>1.281158</td>\n",
              "      <td>0.735269</td>\n",
              "      <td>0.308619</td>\n",
              "      <td>250.8812</td>\n",
              "      <td>1.649953</td>\n",
              "      <td>189.5027</td>\n",
              "      <td>0.000128</td>\n",
              "      <td>1</td>\n",
              "      <td>0</td>\n",
              "      <td>0</td>\n",
              "    </tr>\n",
              "    <tr>\n",
              "      <th>...</th>\n",
              "      <td>...</td>\n",
              "      <td>...</td>\n",
              "      <td>...</td>\n",
              "      <td>...</td>\n",
              "      <td>...</td>\n",
              "      <td>...</td>\n",
              "      <td>...</td>\n",
              "      <td>...</td>\n",
              "      <td>...</td>\n",
              "      <td>...</td>\n",
              "      <td>...</td>\n",
              "      <td>...</td>\n",
              "      <td>...</td>\n",
              "      <td>...</td>\n",
              "      <td>...</td>\n",
              "      <td>...</td>\n",
              "      <td>...</td>\n",
              "      <td>...</td>\n",
              "      <td>...</td>\n",
              "      <td>...</td>\n",
              "      <td>...</td>\n",
              "      <td>...</td>\n",
              "      <td>...</td>\n",
              "      <td>...</td>\n",
              "      <td>...</td>\n",
              "      <td>...</td>\n",
              "      <td>...</td>\n",
              "      <td>...</td>\n",
              "      <td>...</td>\n",
              "      <td>...</td>\n",
              "      <td>...</td>\n",
              "      <td>...</td>\n",
              "      <td>...</td>\n",
              "      <td>...</td>\n",
              "      <td>...</td>\n",
              "      <td>...</td>\n",
              "      <td>...</td>\n",
              "      <td>...</td>\n",
              "      <td>...</td>\n",
              "    </tr>\n",
              "    <tr>\n",
              "      <th>2016-02-01 14:59:16</th>\n",
              "      <td>2.524421</td>\n",
              "      <td>517.2728</td>\n",
              "      <td>2</td>\n",
              "      <td>2</td>\n",
              "      <td>168.0979</td>\n",
              "      <td>8.639324</td>\n",
              "      <td>302.1020</td>\n",
              "      <td>2.455643</td>\n",
              "      <td>2</td>\n",
              "      <td>2</td>\n",
              "      <td>2</td>\n",
              "      <td>20.31180</td>\n",
              "      <td>2.195177</td>\n",
              "      <td>972.5872</td>\n",
              "      <td>1</td>\n",
              "      <td>2</td>\n",
              "      <td>1</td>\n",
              "      <td>1</td>\n",
              "      <td>1</td>\n",
              "      <td>2</td>\n",
              "      <td>148.8032</td>\n",
              "      <td>145.5781</td>\n",
              "      <td>1.704034</td>\n",
              "      <td>954.5245</td>\n",
              "      <td>7.744681</td>\n",
              "      <td>139.0669</td>\n",
              "      <td>257.3379</td>\n",
              "      <td>14.91925</td>\n",
              "      <td>1.713920</td>\n",
              "      <td>1.282567</td>\n",
              "      <td>0.734885</td>\n",
              "      <td>0.308298</td>\n",
              "      <td>251.1055</td>\n",
              "      <td>0.929100</td>\n",
              "      <td>188.7977</td>\n",
              "      <td>0.000000</td>\n",
              "      <td>1</td>\n",
              "      <td>0</td>\n",
              "      <td>0</td>\n",
              "    </tr>\n",
              "    <tr>\n",
              "      <th>2016-02-01 14:59:17</th>\n",
              "      <td>2.562534</td>\n",
              "      <td>517.0766</td>\n",
              "      <td>2</td>\n",
              "      <td>2</td>\n",
              "      <td>168.0979</td>\n",
              "      <td>8.639324</td>\n",
              "      <td>302.1020</td>\n",
              "      <td>2.458078</td>\n",
              "      <td>2</td>\n",
              "      <td>2</td>\n",
              "      <td>2</td>\n",
              "      <td>20.37903</td>\n",
              "      <td>2.194280</td>\n",
              "      <td>972.6673</td>\n",
              "      <td>1</td>\n",
              "      <td>2</td>\n",
              "      <td>1</td>\n",
              "      <td>1</td>\n",
              "      <td>1</td>\n",
              "      <td>2</td>\n",
              "      <td>148.8032</td>\n",
              "      <td>145.5781</td>\n",
              "      <td>1.704034</td>\n",
              "      <td>954.5629</td>\n",
              "      <td>7.744681</td>\n",
              "      <td>139.0669</td>\n",
              "      <td>257.3379</td>\n",
              "      <td>14.91925</td>\n",
              "      <td>1.714176</td>\n",
              "      <td>1.282567</td>\n",
              "      <td>0.734885</td>\n",
              "      <td>0.308298</td>\n",
              "      <td>251.1375</td>\n",
              "      <td>0.929100</td>\n",
              "      <td>188.7977</td>\n",
              "      <td>0.000000</td>\n",
              "      <td>1</td>\n",
              "      <td>0</td>\n",
              "      <td>0</td>\n",
              "    </tr>\n",
              "    <tr>\n",
              "      <th>2016-02-01 14:59:18</th>\n",
              "      <td>2.617301</td>\n",
              "      <td>517.3906</td>\n",
              "      <td>2</td>\n",
              "      <td>2</td>\n",
              "      <td>168.0979</td>\n",
              "      <td>8.641246</td>\n",
              "      <td>302.1020</td>\n",
              "      <td>2.458078</td>\n",
              "      <td>2</td>\n",
              "      <td>2</td>\n",
              "      <td>2</td>\n",
              "      <td>20.37903</td>\n",
              "      <td>2.194280</td>\n",
              "      <td>972.6673</td>\n",
              "      <td>1</td>\n",
              "      <td>2</td>\n",
              "      <td>1</td>\n",
              "      <td>1</td>\n",
              "      <td>1</td>\n",
              "      <td>2</td>\n",
              "      <td>148.8032</td>\n",
              "      <td>145.5781</td>\n",
              "      <td>1.704034</td>\n",
              "      <td>954.7936</td>\n",
              "      <td>7.744681</td>\n",
              "      <td>139.0669</td>\n",
              "      <td>257.3379</td>\n",
              "      <td>14.91925</td>\n",
              "      <td>1.714176</td>\n",
              "      <td>1.274625</td>\n",
              "      <td>0.734885</td>\n",
              "      <td>0.308298</td>\n",
              "      <td>251.1375</td>\n",
              "      <td>0.929100</td>\n",
              "      <td>188.8939</td>\n",
              "      <td>0.000000</td>\n",
              "      <td>1</td>\n",
              "      <td>0</td>\n",
              "      <td>0</td>\n",
              "    </tr>\n",
              "    <tr>\n",
              "      <th>2016-02-01 14:59:19</th>\n",
              "      <td>2.650930</td>\n",
              "      <td>517.8224</td>\n",
              "      <td>2</td>\n",
              "      <td>2</td>\n",
              "      <td>168.0979</td>\n",
              "      <td>8.641566</td>\n",
              "      <td>302.1020</td>\n",
              "      <td>2.458078</td>\n",
              "      <td>2</td>\n",
              "      <td>2</td>\n",
              "      <td>2</td>\n",
              "      <td>20.42704</td>\n",
              "      <td>2.194280</td>\n",
              "      <td>972.5872</td>\n",
              "      <td>1</td>\n",
              "      <td>2</td>\n",
              "      <td>1</td>\n",
              "      <td>1</td>\n",
              "      <td>1</td>\n",
              "      <td>2</td>\n",
              "      <td>148.8032</td>\n",
              "      <td>145.5781</td>\n",
              "      <td>1.704034</td>\n",
              "      <td>955.1782</td>\n",
              "      <td>7.744681</td>\n",
              "      <td>139.2464</td>\n",
              "      <td>257.3379</td>\n",
              "      <td>14.65009</td>\n",
              "      <td>1.714176</td>\n",
              "      <td>1.290509</td>\n",
              "      <td>0.734885</td>\n",
              "      <td>0.308298</td>\n",
              "      <td>251.1375</td>\n",
              "      <td>0.929100</td>\n",
              "      <td>188.8939</td>\n",
              "      <td>0.000000</td>\n",
              "      <td>1</td>\n",
              "      <td>0</td>\n",
              "      <td>0</td>\n",
              "    </tr>\n",
              "    <tr>\n",
              "      <th>2016-02-01 14:59:20</th>\n",
              "      <td>2.666624</td>\n",
              "      <td>517.8224</td>\n",
              "      <td>2</td>\n",
              "      <td>2</td>\n",
              "      <td>168.0979</td>\n",
              "      <td>8.641566</td>\n",
              "      <td>302.1020</td>\n",
              "      <td>2.458078</td>\n",
              "      <td>2</td>\n",
              "      <td>2</td>\n",
              "      <td>2</td>\n",
              "      <td>20.42704</td>\n",
              "      <td>2.193639</td>\n",
              "      <td>972.3869</td>\n",
              "      <td>1</td>\n",
              "      <td>2</td>\n",
              "      <td>1</td>\n",
              "      <td>1</td>\n",
              "      <td>1</td>\n",
              "      <td>2</td>\n",
              "      <td>148.8032</td>\n",
              "      <td>145.5781</td>\n",
              "      <td>1.703393</td>\n",
              "      <td>955.6396</td>\n",
              "      <td>7.744681</td>\n",
              "      <td>139.2464</td>\n",
              "      <td>257.3379</td>\n",
              "      <td>14.65009</td>\n",
              "      <td>1.714176</td>\n",
              "      <td>1.289228</td>\n",
              "      <td>0.734885</td>\n",
              "      <td>0.308298</td>\n",
              "      <td>251.1375</td>\n",
              "      <td>0.849005</td>\n",
              "      <td>188.8939</td>\n",
              "      <td>0.000000</td>\n",
              "      <td>1</td>\n",
              "      <td>0</td>\n",
              "      <td>0</td>\n",
              "    </tr>\n",
              "  </tbody>\n",
              "</table>\n",
              "<p>449880 rows × 39 columns</p>\n",
              "</div>"
            ],
            "text/plain": [
              "                       FIT101    LIT101   MV101  ...  P602  Normal/Attack  y_pred\n",
              "date                                             ...                             \n",
              "2015-12-28 10:00:00  2.427057  522.8467       2  ...     1              0       0\n",
              "2015-12-28 10:00:01  2.446274  522.8860       2  ...     1              0       0\n",
              "2015-12-28 10:00:02  2.489191  522.8467       2  ...     1              0       0\n",
              "2015-12-28 10:00:03  2.534350  522.9645       2  ...     1              0       0\n",
              "2015-12-28 10:00:04  2.569260  523.4748       2  ...     1              0       0\n",
              "...                       ...       ...     ...  ...   ...            ...     ...\n",
              "2016-02-01 14:59:16  2.524421  517.2728       2  ...     1              0       0\n",
              "2016-02-01 14:59:17  2.562534  517.0766       2  ...     1              0       0\n",
              "2016-02-01 14:59:18  2.617301  517.3906       2  ...     1              0       0\n",
              "2016-02-01 14:59:19  2.650930  517.8224       2  ...     1              0       0\n",
              "2016-02-01 14:59:20  2.666624  517.8224       2  ...     1              0       0\n",
              "\n",
              "[449880 rows x 39 columns]"
            ]
          },
          "metadata": {
            "tags": []
          },
          "execution_count": 29
        }
      ]
    },
    {
      "cell_type": "code",
      "metadata": {
        "colab": {
          "base_uri": "https://localhost:8080/",
          "height": 286
        },
        "id": "Ok6__CKR5HWi",
        "outputId": "e2b56b55-cd59-4646-ffc8-7be204d9ca19"
      },
      "source": [
        "#Visual abnormal score\n",
        "plt.plot(score_list, label='Anomaly Score')\n",
        "plt.axhline(y=threshold, color='r', linewidth=3)\n",
        "plt.axvline(x=250000, color='black', linestyle='--', linewidth=1)#RoI\n",
        "plt.axvline(x=300000, color='black', linestyle='--', linewidth=1)\n",
        "plt.legend()\n",
        "len(score_list)"
      ],
      "execution_count": 30,
      "outputs": [
        {
          "output_type": "execute_result",
          "data": {
            "text/plain": [
              "449880"
            ]
          },
          "metadata": {
            "tags": []
          },
          "execution_count": 30
        },
        {
          "output_type": "display_data",
          "data": {
            "image/png": "[encoded data removed]",
            "text/plain": [
              "<Figure size 792x288 with 1 Axes>"
            ]
          },
          "metadata": {
            "tags": []
          }
        }
      ]
    },
    {
      "cell_type": "code",
      "metadata": {
        "colab": {
          "base_uri": "https://localhost:8080/",
          "height": 286
        },
        "id": "Grhfif-15HYy",
        "outputId": "53c89b97-d62b-49f7-861d-b6fc51c79e52"
      },
      "source": [
        "#Reconstruction Error\n",
        "plt.plot(recon_err[:,1],label='Reconstruction Error')\n",
        "plt.axvline(x=250000, color='black', linestyle='--', linewidth=1)\n",
        "plt.axvline(x=300000, color='black', linestyle='--', linewidth=1)\n",
        "plt.legend()"
      ],
      "execution_count": 33,
      "outputs": [
        {
          "output_type": "execute_result",
          "data": {
            "text/plain": [
              "<matplotlib.legend.Legend at 0x7f0f10ddd790>"
            ]
          },
          "metadata": {
            "tags": []
          },
          "execution_count": 33
        },
        {
          "output_type": "display_data",
          "data": {
            "image/png": "[encoded data removed]",
            "text/plain": [
              "<Figure size 792x288 with 1 Axes>"
            ]
          },
          "metadata": {
            "tags": []
          }
        }
      ]
    },
    {
      "cell_type": "code",
      "metadata": {
        "id": "SHqkEOQv5Hbh"
      },
      "source": [
        "#ROI\n",
        "abnormal_RoI=abnormal[250000:300000]"
      ],
      "execution_count": 36,
      "outputs": []
    },
    {
      "cell_type": "code",
      "metadata": {
        "colab": {
          "base_uri": "https://localhost:8080/",
          "height": 305
        },
        "id": "735xlaZ35Hgj",
        "outputId": "6e6d4859-7559-49c2-c869-01038389d283"
      },
      "source": [
        "#\n",
        "ax_an=abnormal_RoI['LIT101'].plot(linewidth=0.5,label='Normal');\n",
        "Error_label=abnormal_RoI['LIT101'][abnormal_RoI['Normal/Attack']==1]\n",
        "Error_predict=abnormal_RoI['LIT101'][abnormal_RoI['y_pred']==1]\n",
        "\n",
        "Error_label.plot(marker='o',color='red',linestyle='None', alpha=0.8,label='Abnormal')\n",
        "Error_predict.plot(marker='.',color='black',linestyle='None', alpha=0.3,label='Predict')\n",
        "ax_an.legend()"
      ],
      "execution_count": 39,
      "outputs": [
        {
          "output_type": "execute_result",
          "data": {
            "text/plain": [
              "<matplotlib.legend.Legend at 0x7f0f102c0a10>"
            ]
          },
          "metadata": {
            "tags": []
          },
          "execution_count": 39
        },
        {
          "output_type": "display_data",
          "data": {
            "image/png": "[encoded data removed]",
            "text/plain": [
              "<Figure size 792x288 with 1 Axes>"
            ]
          },
          "metadata": {
            "tags": []
          }
        }
      ]
    }
  ]
}